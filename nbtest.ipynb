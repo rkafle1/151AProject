{
 "cells": [
  {
   "cell_type": "code",
   "execution_count": 1,
   "metadata": {},
   "outputs": [],
   "source": [
    "# Imports #\n",
    "import numpy as np\n",
    "import pandas as pd\n",
    "import matplotlib.pyplot as plt\n",
    "import seaborn as sns"
   ]
  },
  {
   "cell_type": "markdown",
   "metadata": {},
   "source": [
    "*Get the image sizing data into a csv file and plot it*"
   ]
  },
  {
   "cell_type": "code",
   "execution_count": 2,
   "metadata": {},
   "outputs": [
    {
     "ename": "ModuleNotFoundError",
     "evalue": "No module named 'PTL'",
     "output_type": "error",
     "traceback": [
      "\u001b[1;31m---------------------------------------------------------------------------\u001b[0m",
      "\u001b[1;31mModuleNotFoundError\u001b[0m                       Traceback (most recent call last)",
      "Input \u001b[1;32mIn [2]\u001b[0m, in \u001b[0;36m<module>\u001b[1;34m\u001b[0m\n\u001b[1;32m----> 1\u001b[0m \u001b[38;5;28;01mfrom\u001b[39;00m \u001b[38;5;21;01mPTL\u001b[39;00m \u001b[38;5;28;01mimport\u001b[39;00m Image \u001b[38;5;28;01mas\u001b[39;00m im\n\u001b[0;32m      2\u001b[0m \u001b[38;5;28;01mimport\u001b[39;00m \u001b[38;5;21;01mcsv\u001b[39;00m\n\u001b[0;32m      3\u001b[0m \u001b[38;5;28;01mimport\u001b[39;00m \u001b[38;5;21;01mos\u001b[39;00m\n",
      "\u001b[1;31mModuleNotFoundError\u001b[0m: No module named 'PTL'"
     ]
    }
   ],
   "source": [
    "from PTL import Image as im\n",
    "import csv\n",
    "import os\n",
    "# gets the image sizing info from the specified folder\n",
    "def get_image_data(folder):\n",
    "    image_sizes = []\n",
    "    for image in os.listdir(folder):\n",
    "        image_path = folder + \"/\" + image\n",
    "        with im.open(image_path) as opened_image:\n",
    "            size = os.path.getsize(image_path)\n",
    "            width, height = opened_image.size\n",
    "            image_sizes.append([size, width, height])\n",
    "    return image_sizes\n",
    "\n",
    "# get the image size, width, and height into a csv file\n",
    "with open(\"Image_Sizing_Info.csv\", 'w') as ImageCsv:\n",
    "    writer = csv.writer(ImageCsv)\n",
    "    writer.writerow([ \"image size\", \"width\", \"height\", \"category\"])\n",
    "    for subfolder in os.listdir(\"/RealWaste\"):\n",
    "        writer.writerows(get_image_data(\"/RealWaste/\" + subfolder).append(subfolder))\n",
    "    \n",
    "    "
   ]
  },
  {
   "cell_type": "code",
   "execution_count": null,
   "metadata": {},
   "outputs": [],
   "source": [
    "# plot the image size, width, and height on scatter plots\n",
    "data = pd.read_csv(\"Image_Sizing_Info.csv\")\n",
    "\n"
   ]
  }
 ],
 "metadata": {
  "kernelspec": {
   "display_name": "Python 3 (ipykernel)",
   "language": "python",
   "name": "python3"
  },
  "language_info": {
   "codemirror_mode": {
    "name": "ipython",
    "version": 3
   },
   "file_extension": ".py",
   "mimetype": "text/x-python",
   "name": "python",
   "nbconvert_exporter": "python",
   "pygments_lexer": "ipython3",
   "version": "3.9.13"
  }
 },
 "nbformat": 4,
 "nbformat_minor": 4
}
