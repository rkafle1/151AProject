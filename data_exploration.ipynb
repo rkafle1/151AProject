{
 "cells": [
  {
   "cell_type": "code",
   "execution_count": 10,
   "id": "a8e6c0eb",
   "metadata": {},
   "outputs": [
    {
     "ename": "ModuleNotFoundError",
     "evalue": "No module named 'matplotlib'",
     "output_type": "error",
     "traceback": [
      "\u001b[1;31m---------------------------------------------------------------------------\u001b[0m",
      "\u001b[1;31mModuleNotFoundError\u001b[0m                       Traceback (most recent call last)",
      "Input \u001b[1;32mIn [10]\u001b[0m, in \u001b[0;36m<module>\u001b[1;34m\u001b[0m\n\u001b[0;32m      1\u001b[0m \u001b[38;5;28;01mimport\u001b[39;00m \u001b[38;5;21;01mos\u001b[39;00m\n\u001b[1;32m----> 2\u001b[0m \u001b[38;5;28;01mimport\u001b[39;00m \u001b[38;5;21;01mmatplotlib\u001b[39;00m\u001b[38;5;21;01m.\u001b[39;00m\u001b[38;5;21;01mpyplot\u001b[39;00m \u001b[38;5;28;01mas\u001b[39;00m \u001b[38;5;21;01mplt\u001b[39;00m\n\u001b[0;32m      4\u001b[0m \u001b[38;5;66;03m# into the RealWaste folder\u001b[39;00m\n\u001b[0;32m      5\u001b[0m realwaste_path \u001b[38;5;241m=\u001b[39m \u001b[38;5;124m\"\u001b[39m\u001b[38;5;124mrealwaste-main/RealWaste\u001b[39m\u001b[38;5;124m\"\u001b[39m\n",
      "\u001b[1;31mModuleNotFoundError\u001b[0m: No module named 'matplotlib'"
     ]
    }
   ],
   "source": [
    "import os\n",
    "import matplotlib.pyplot as plt\n",
    "\n",
    "# into the RealWaste folder\n",
    "realwaste_path = \"realwaste-main/RealWaste\"\n",
    "\n",
    "# category names and corresponding colors\n",
    "category_colors = {\n",
    "    'Cardboard': 'brown',\n",
    "    'Food Organics': 'darkgreen',\n",
    "    'Glass': 'cyan',\n",
    "    'Metal': 'grey',\n",
    "    'Miscellaneous Trash': 'purple',\n",
    "    'Paper': 'tan',\n",
    "    'Plastic': 'pink',\n",
    "    'Textile Trash': 'yellow',\n",
    "    'Vegetation': 'green'\n",
    "}\n",
    "\n",
    "# category names and corresponding image counts\n",
    "categories = []\n",
    "image_counts = []\n",
    "\n",
    "# through each subfolder\n",
    "for category_folder in os.listdir(realwaste_path):\n",
    "    category_path = os.path.join(realwaste_path, category_folder)\n",
    "    \n",
    "    # check if it's a directory\n",
    "    if os.path.isdir(category_path):\n",
    "        categories.append(category_folder)\n",
    "        \n",
    "        # count # images in the category\n",
    "        image_count = len(os.listdir(category_path))\n",
    "        image_counts.append(image_count)\n",
    "\n",
    "# bar graph:\n",
    "colors = [category_colors[category] for category in categories]\n",
    "plt.bar(categories, image_counts, color=colors)\n",
    "plt.xlabel('Type of Waste')\n",
    "plt.ylabel('Number of Pictures')\n",
    "plt.title('Number of Pictures in Each Type of Waste')\n",
    "plt.xticks(rotation=45, ha='right') \n",
    "plt.tight_layout()\n",
    "\n",
    "# Show the plot\n",
    "plt.show()\n"
   ]
  },
  {
   "cell_type": "code",
   "execution_count": 11,
   "id": "20a3a1bf",
   "metadata": {},
   "outputs": [
    {
     "ename": "ModuleNotFoundError",
     "evalue": "No module named 'numpy'",
     "output_type": "error",
     "traceback": [
      "\u001b[1;31m---------------------------------------------------------------------------\u001b[0m",
      "\u001b[1;31mModuleNotFoundError\u001b[0m                       Traceback (most recent call last)",
      "Input \u001b[1;32mIn [11]\u001b[0m, in \u001b[0;36m<module>\u001b[1;34m\u001b[0m\n\u001b[0;32m      1\u001b[0m \u001b[38;5;28;01mfrom\u001b[39;00m \u001b[38;5;21;01mPIL\u001b[39;00m \u001b[38;5;28;01mimport\u001b[39;00m Image\n\u001b[0;32m      2\u001b[0m \u001b[38;5;28;01mimport\u001b[39;00m \u001b[38;5;21;01mos\u001b[39;00m\n\u001b[1;32m----> 3\u001b[0m \u001b[38;5;28;01mimport\u001b[39;00m \u001b[38;5;21;01mnumpy\u001b[39;00m \u001b[38;5;28;01mas\u001b[39;00m \u001b[38;5;21;01mnp\u001b[39;00m\n\u001b[0;32m      4\u001b[0m \u001b[38;5;28;01mimport\u001b[39;00m \u001b[38;5;21;01mmatplotlib\u001b[39;00m\u001b[38;5;21;01m.\u001b[39;00m\u001b[38;5;21;01mpyplot\u001b[39;00m \u001b[38;5;28;01mas\u001b[39;00m \u001b[38;5;21;01mplt\u001b[39;00m\n\u001b[0;32m      6\u001b[0m \u001b[38;5;66;03m# into RealWaste folder\u001b[39;00m\n",
      "\u001b[1;31mModuleNotFoundError\u001b[0m: No module named 'numpy'"
     ]
    }
   ],
   "source": [
    "from PIL import Image\n",
    "import os\n",
    "import numpy as np\n",
    "import matplotlib.pyplot as plt\n",
    "\n",
    "# into RealWaste folder\n",
    "realwaste_path = \"realwaste-main/RealWaste\"\n",
    "\n",
    "# categories\n",
    "valid_categories = ['Cardboard', 'Food Organics', 'Glass', 'Metal', 'Miscellaneous Trash', 'Paper', 'Plastic', 'Textile Trash', 'Vegetation']\n",
    "\n",
    "# calculate color distribution for an image\n",
    "def calculate_color_distribution(image_path):\n",
    "    # read the image\n",
    "    try:\n",
    "        image = Image.open(image_path)\n",
    "    except Exception as e:\n",
    "        print(f\"Error opening image {image_path}: {e}\")\n",
    "        return None\n",
    "    # into RGB \n",
    "    image_rgb = image.convert(\"RGB\")\n",
    "    # flatten 2D into 1D array of RGB values\n",
    "    pixels = np.array(image_rgb).reshape((-1, 3))\n",
    "    # calculate the histogram of RGB values\n",
    "    histogram, bins = np.histogram(pixels, bins=256, range=[0, 256])\n",
    "    # normalize the histogram\n",
    "    histogram = histogram / histogram.sum()\n",
    "\n",
    "    return histogram\n",
    "\n",
    "# store color distributions for each category\n",
    "color_distributions = []\n",
    "\n",
    "# iterate through each valid category\n",
    "for category in valid_categories:\n",
    "    category_path = os.path.join(realwaste_path, category)\n",
    "    # store color distributions for each image in the category\n",
    "    category_color_distributions = []\n",
    "    # iterate through each image in the category\n",
    "    for image_file in os.listdir(category_path):\n",
    "        image_path = os.path.join(category_path, image_file)\n",
    "        # check if it's a valid image file\n",
    "        if not image_file.lower().endswith(('.png', '.jpg', '.jpeg', '.gif', '.bmp')):\n",
    "            continue\n",
    "        # calculate color distribution for the image\n",
    "        color_distribution = calculate_color_distribution(image_path)\n",
    "        # apped the color distribution to the list\n",
    "        if color_distribution is not None:\n",
    "            category_color_distributions.append(color_distribution)\n",
    "    # calculate the average color distribution for the category\n",
    "    average_color_distribution = np.mean(category_color_distributions, axis=0)\n",
    "    # append the average color distribution to the main list\n",
    "    color_distributions.append(average_color_distribution)\n",
    "\n",
    "# plot \n",
    "for idx, (category_color_distribution, category) in enumerate(zip(color_distributions, valid_categories)):\n",
    "    plt.plot(category_color_distribution, label=category, color=category_colors[category])\n",
    "\n",
    "\n",
    "plt.xlabel('RGB Value')\n",
    "plt.ylabel('Normalized Frequency')\n",
    "plt.title('Color Distribution in Different Categories')\n",
    "plt.legend()\n",
    "plt.show()"
   ]
  },
  {
   "cell_type": "code",
   "execution_count": null,
   "id": "b69447e3",
   "metadata": {},
   "outputs": [
    {
     "data": {
      "image/png": "[encoded data removed]",
      "text/plain": [
       "<Figure size 640x480 with 1 Axes>"
      ]
     },
     "metadata": {},
     "output_type": "display_data"
    }
   ],
   "source": [
    "from PIL import Image\n",
    "import os\n",
    "import matplotlib.pyplot as plt\n",
    "\n",
    "# into RealWaste folder\n",
    "realwaste_path = \"realwaste-main/RealWaste\"\n",
    "\n",
    "# store image sizes for each category\n",
    "image_sizes = []\n",
    "\n",
    "# through each subfolder\n",
    "for category_folder in os.listdir(realwaste_path):\n",
    "    category_path = os.path.join(realwaste_path, category_folder)\n",
    "\n",
    "    if os.path.isdir(category_path):\n",
    "        # store image sizes for each image in the category\n",
    "        category_image_sizes = []\n",
    "\n",
    "        # through each image in the category\n",
    "        for image_file in os.listdir(category_path):\n",
    "            image_path = os.path.join(category_path, image_file)\n",
    "\n",
    "            # open the image\n",
    "            with Image.open(image_path) as img:\n",
    "                # size of the image\n",
    "                image_size = img.size\n",
    "                category_image_sizes.append(image_size)\n",
    "\n",
    "        # append image sizes for the category to the main list\n",
    "        image_sizes.append(category_image_sizes)\n",
    "\n",
    "# flatten the list of image sizes for plotting\n",
    "flat_image_sizes = [size for sublist in image_sizes for size in sublist]\n",
    "\n",
    "# plot image size distribution\n",
    "widths, heights = zip(*flat_image_sizes)\n",
    "plt.scatter(widths, heights)\n",
    "plt.xlabel('Width')\n",
    "plt.ylabel('Height')\n",
    "plt.title('Image Size Distribution')\n",
    "plt.show()\n"
   ]
  },
  {
   "cell_type": "code",
   "execution_count": null,
   "id": "e51e1537",
   "metadata": {},
   "outputs": [
    {
     "ename": "ModuleNotFoundError",
     "evalue": "No module named 'numpy'",
     "output_type": "error",
     "traceback": [
      "\u001b[1;31m---------------------------------------------------------------------------\u001b[0m",
      "\u001b[1;31mModuleNotFoundError\u001b[0m                       Traceback (most recent call last)",
      "Input \u001b[1;32mIn [9]\u001b[0m, in \u001b[0;36m<module>\u001b[1;34m\u001b[0m\n\u001b[0;32m      1\u001b[0m \u001b[38;5;28;01mimport\u001b[39;00m \u001b[38;5;21;01mos\u001b[39;00m\n\u001b[1;32m----> 2\u001b[0m \u001b[38;5;28;01mfrom\u001b[39;00m \u001b[38;5;21;01mnumpy\u001b[39;00m \u001b[38;5;28;01mimport\u001b[39;00m random\n\u001b[0;32m      3\u001b[0m \u001b[38;5;28;01mfrom\u001b[39;00m \u001b[38;5;21;01mIPython\u001b[39;00m\u001b[38;5;21;01m.\u001b[39;00m\u001b[38;5;21;01mdisplay\u001b[39;00m \u001b[38;5;28;01mimport\u001b[39;00m Image\n\u001b[0;32m      4\u001b[0m realwaste_path \u001b[38;5;241m=\u001b[39m \u001b[38;5;124m\"\u001b[39m\u001b[38;5;124mrealwaste-main/RealWaste\u001b[39m\u001b[38;5;124m\"\u001b[39m\n",
      "\u001b[1;31mModuleNotFoundError\u001b[0m: No module named 'numpy'"
     ]
    }
   ],
   "source": [
    "import os\n",
    "from numpy import random\n",
    "from IPython.display import Image\n",
    "realwaste_path = \"realwaste-main/RealWaste\"\n",
    "# through each subfolder\n",
    "for category_folder in os.listdir(realwaste_path):\n",
    "    category_path = os.path.join(realwaste_path, category_folder)\n",
    "    num_image = 0\n",
    "\n",
    "    if os.path.isdir(category_path):\n",
    "\n",
    "        # through each image in the category\n",
    "        for image_file in os.listdir(category_path):\n",
    "            num_image += 1\n",
    "\n",
    "\n",
    "        random_image_nums = random.randint(1, num_image, size=3)\n",
    "        for image_num in random_image_nums:\n",
    "            Image(filename=category_path + f'{category_folder}_{image_num}.jpg') "
   ]
  }
 ],
 "metadata": {
  "kernelspec": {
   "display_name": "\"Python/Mu (mu_venv-38-20220924-175725)\"",
   "language": "python",
   "name": "mu_venv-38-20220924-175725"
  },
  "language_info": {
   "codemirror_mode": {
    "name": "ipython",
    "version": 3
   },
   "file_extension": ".py",
   "mimetype": "text/x-python",
   "name": "python",
   "nbconvert_exporter": "python",
   "pygments_lexer": "ipython3",
   "version": "3.8.11"
  }
 },
 "nbformat": 4,
 "nbformat_minor": 5
}
